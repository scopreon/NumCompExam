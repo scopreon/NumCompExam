{
 "cells": [
  {
   "cell_type": "code",
   "execution_count": null,
   "id": "4f2f034f",
   "metadata": {},
   "outputs": [],
   "source": [
    "'''** Floating point types in numpy **'''\n",
    "import numpy as np\n",
    "\n",
    "print(help(np.finfo))\n",
    "\n",
    "for dtype in [float, np.double, np.single, np.half]:\n",
    "    print(dtype.__name__, np.finfo(dtype))"
   ]
  },
  {
   "cell_type": "code",
   "execution_count": null,
   "id": "36e7a699",
   "metadata": {},
   "outputs": [],
   "source": [
    "'''** Equality of floating point representations **'''\n",
    "a = np.sqrt(2.0)\n",
    "print(f\"a={a}, type(a)={type(a)}\")\n",
    "\n",
    "b = a*a\n",
    "print(f\"b={b}\")\n",
    "\n",
    "print(b == 2.0)\n",
    "print(b-2.0)\n",
    "\n",
    "def my_isclose(x, y, tol=1.0e-9):\n",
    "    return abs(x - y) < tol\n",
    "\n",
    "print(my_isclose(a*a, b))\n",
    "print(np.isclose(a*a, b))"
   ]
  },
  {
   "cell_type": "code",
   "execution_count": null,
   "id": "57d99462",
   "metadata": {},
   "outputs": [],
   "source": [
    "'''What’s the best way to write a function: Answer = g()'''\n",
    "import numpy as np\n",
    "\n",
    "def f(x):\n",
    "    return x*(np.sqrt(x+1)-np.sqrt(x))\n",
    "\n",
    "def g(x):\n",
    "    return x/(np.sqrt(x+1)+np.sqrt(x))\n",
    "\n",
    "x =  np.float64(500)\n",
    "print(\"f=\", f(x), \"g=\", g(x))\n",
    "x =  np.float32(500)\n",
    "print(\"f=\", f(x), \"g=\", g(x))\n",
    "x =  np.float16(500)\n",
    "print(\"f=\", f(x), \"g=\", g(x))"
   ]
  },
  {
   "cell_type": "code",
   "execution_count": null,
   "id": "c712557f",
   "metadata": {},
   "outputs": [],
   "source": [
    "'''Ordering of floating point calculations in practice'''\n",
    "import numpy as np\n",
    "import pandas as pd\n",
    "\n",
    "def piSquared(n):\n",
    "    piS = 0.0\n",
    "    k=1.0\n",
    "    while k < (n + 0.1) :\n",
    "        piS = piS + 1./k/k\n",
    "        k = k + 1.0\n",
    "        \n",
    "    return 6.0*piS\n",
    "\n",
    "table_headings = [\"n\", \"piS\", \"error\"]\n",
    "table_data = []\n",
    "\n",
    "n=1.e6\n",
    "for i in range(4):\n",
    "    piS = piSquared(n)\n",
    "    table_data.append([n, piS, abs(piS - np.pi*np.pi)])\n",
    "    n = n*10.0\n",
    "\n",
    "pd.DataFrame(table_data, columns=table_headings)"
   ]
  },
  {
   "cell_type": "code",
   "execution_count": null,
   "id": "7494740d",
   "metadata": {},
   "outputs": [],
   "source": [
    "'''Ordering of floating point calculations in practice 2'''\n",
    "def piSquared_v2(n):\n",
    "    piS = 0.0\n",
    "    k = n\n",
    "    while k > 0.5 :\n",
    "        piS = piS + 1./k/k\n",
    "        k = k - 1.0\n",
    "        \n",
    "    return 6.0*piS\n",
    "\n",
    "n=1.e6\n",
    "for i in range(4):\n",
    "    piS = piSquared_v2(n)\n",
    "    table_data.append([n, piS, abs(piS - np.pi*np.pi)])\n",
    "    n = n*10.0\n",
    "\n",
    "pd.DataFrame(table_data, columns=table_headings)"
   ]
  },
  {
   "cell_type": "code",
   "execution_count": null,
   "id": "07eea473",
   "metadata": {},
   "outputs": [],
   "source": [
    "''' Extension: Check the largest number'''\n",
    "def largest(b,t,l,u):\n",
    "    y = np.float64(0)\n",
    "    b = np.float64(b)\n",
    "    t = int(t)\n",
    "    l = np.float64(l) \n",
    "    u = np.float64(u)     \n",
    "    for i in range(t):\n",
    "        y = y + b**(-i-1)\n",
    "        \n",
    "    return b**u*y\n",
    "print(f\"The largest number is {largest(2,24,-126,128)}.\")"
   ]
  }
 ],
 "metadata": {
  "kernelspec": {
   "display_name": "Python 3 (ipykernel)",
   "language": "python",
   "name": "python3"
  },
  "language_info": {
   "codemirror_mode": {
    "name": "ipython",
    "version": 3
   },
   "file_extension": ".py",
   "mimetype": "text/x-python",
   "name": "python",
   "nbconvert_exporter": "python",
   "pygments_lexer": "ipython3",
   "version": "3.9.12"
  }
 },
 "nbformat": 4,
 "nbformat_minor": 5
}
