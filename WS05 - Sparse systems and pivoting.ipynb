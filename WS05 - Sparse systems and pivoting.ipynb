{
 "cells": [
  {
   "cell_type": "code",
   "execution_count": 1,
   "id": "c7e112bd",
   "metadata": {},
   "outputs": [
    {
     "name": "stdout",
     "output_type": "stream",
     "text": [
      "[ 4.5  8.2  8.  -5. ]\n"
     ]
    }
   ],
   "source": [
    "'''*** Sparse matrix multiplication ***'''\n",
    "import numpy as np\n",
    "\n",
    "A_real = np.array([3, 1.5, 2,4 ,2.2, 2, 6, 4, -9], dtype=np.float64)\n",
    "I_row = np.array([0, 0, 1, 1, 1, 2, 2, 3, 3], dtype=np.int32)\n",
    "I_col = np.array([0, 2, 0, 1, 2, 1, 2, 2, 3], dtype=np.int32) \n",
    "\n",
    "nonzero = len(A_real)\n",
    "dim = 4\n",
    "y = np.zeros(dim) + 1.\n",
    "z = np.zeros(dim)\n",
    "\n",
    "for k in range(nonzero):\n",
    "    z[I_row[k]] = z[I_row[k]] + A_real[k] * y[I_col[k]]\n",
    "\n",
    "print(z)"
   ]
  },
  {
   "cell_type": "code",
   "execution_count": 2,
   "id": "5cde739a",
   "metadata": {},
   "outputs": [],
   "source": [
    "# copy from ws03\n",
    "def upper_triangular_solve(A, b):\n",
    "    \"\"\"\n",
    "    Solve the system  A x = b  where A is assumed to be lower triangular,\n",
    "    i.e. A(i,j) = 0 for j > i, and the diagonal is assumed to be nonzero,\n",
    "    i.e. A(i,i) != 0.\n",
    "    \n",
    "    The code checks that A is lower triangular and converts A and b to\n",
    "    double precision before computing.\n",
    "\n",
    "    ARGUMENTS:  A   lower triangular n x n array\n",
    "                b   right hand side column n-vector\n",
    "\n",
    "    RETURNS:    x   column n-vector solution\n",
    "    \"\"\"\n",
    "\n",
    "    # we should take care to ensure that arrays are stored with the correct type - float!\n",
    "    A = A.astype(np.float64)\n",
    "    b = b.astype(np.float64)\n",
    "      \n",
    "    # check sizes of A and b match appropriately\n",
    "    nb=len(b)\n",
    "    n, m = A.shape\n",
    "    if n != m:\n",
    "        raise ValueError(f'A is not a square matrix! {A.shape=}')\n",
    "    if n != nb:\n",
    "        raise ValueError(f'shapes of A and b do not match! {A.shape=} {b.shape=}')\n",
    "    \n",
    "    # check A is upper triangular\n",
    "    for i in range(n):\n",
    "        for j in range(0,i):\n",
    "            if not np.isclose(A[i, j], 0.0):\n",
    "                raise ValueError(f'A is not upper triangular! {A[i, j]=}')\n",
    "\n",
    "    # checks whether A has zero diagonal element\n",
    "    for i in range(n):\n",
    "        if np.isclose(A[i, i], 0.0):\n",
    "            raise ValueError(f'A[{i}, {i}] is zero')\n",
    "    \n",
    "    #create a new array to store the results\n",
    "    x = np.empty_like(b)\n",
    "    \n",
    "    # perform backwards subsitution\n",
    "    x[n-1] = b[n-1] / A[n-1, n-1]\n",
    "    for i in range(2,n+1):\n",
    "        x[n-i] = b[n-i] / A[n-i, n-i]\n",
    "        for j in range(n-i+1, n):\n",
    "            x[n-i] = x[n-i] - A[n-i,j]*x[j] / A[n-i, n-i]\n",
    "        \n",
    "    return x"
   ]
  },
  {
   "cell_type": "code",
   "execution_count": 3,
   "id": "162e56fb",
   "metadata": {},
   "outputs": [],
   "source": [
    "'''*** Gaussian elimination with pivoting ***'''\n",
    "def Gaussian_elimination_pivoting(A, b, verbose=False):\n",
    "    # To ensure that arrays are stored in double precision.\n",
    "    A = A.astype(np.float64)\n",
    "    b = b.astype(np.float64)\n",
    "     \n",
    "    # size of solution vector / the square matrix A\n",
    "    n=len(b) # or   n, n = A.shape\n",
    "        \n",
    "    # check sizes of A and b match appropriately\n",
    "    nb=len(b)\n",
    "    n, m = A.shape\n",
    "    if n != m:\n",
    "        raise ValueError(f'A is not a square matrix! {A.shape=}')\n",
    "    if n != nb:\n",
    "        raise ValueError(f'shapes of A and b do not match! {A.shape=} {b.shape=}')\n",
    "    \n",
    "    if verbose:\n",
    "        print('starting system\\n', A, b)\n",
    "  \n",
    "    # perform forward elimination\n",
    "    for i in range(n):          \n",
    "        # find the index of the maximal value in column i on or below\n",
    "        # the diagonal of A\n",
    "        maximum = abs(A[i,i])\n",
    "        max_index = i\n",
    "        for j in range(i+1,n):\n",
    "            if abs(A[j,i]) > maximum :\n",
    "                maximum = abs(A[j,i])               \n",
    "                max_index = j   \n",
    "                                       \n",
    "        \n",
    "        # swap two max_indexs: i and max_index[i]\n",
    "        temp = b[i]\n",
    "        b[i] = b[max_index]\n",
    "        b[max_index] = temp\n",
    "        for j in range(n):\n",
    "            temp = A[i,j]\n",
    "            A[i,j] = A[max_index,j]\n",
    "            A[max_index,j] = temp  \n",
    "            \n",
    "        \n",
    "        # check diagonal\n",
    "        if np.isclose(A[i, i], 0.0):\n",
    "            raise ValueError(f'A has zero on diagonal! A[{i}, {i}] = 0') \n",
    "\n",
    "        # row j <- row j - (a_{ji} / a_{ii}) row i\n",
    "        for j in range(i+1, n):\n",
    "            if verbose:\n",
    "                print(f'row {j} <- row {j} - {A[j, i] / A[i, i]} row {i}')\n",
    "            factor = A[j, i] / A[i, i]\n",
    "            for k in range(0, n):\n",
    "                A[j, k] = A[j, k] - factor * A[i, k]\n",
    "            b[j] = b[j] - factor * b[i]\n",
    "        \n",
    "    return upper_triangular_solve(A, b)"
   ]
  },
  {
   "cell_type": "code",
   "execution_count": 4,
   "id": "7bd03dde",
   "metadata": {},
   "outputs": [
    {
     "name": "stdout",
     "output_type": "stream",
     "text": [
      "Solution by numpy solver: [0.9244595  0.31826746 0.15668124 0.14340388]\n",
      "Gaussian elimination:  [0.9244595  0.31826746 0.15668124 0.14340388]\n",
      "Residual:  [ 0.00000000e+00 -1.77635684e-15 -1.77635684e-15  0.00000000e+00]\n"
     ]
    }
   ],
   "source": [
    "'''testing'''\n",
    "A = np.array([[-10, 2, 0, 67], [-2, 50, -77, 1.e-5], [1, 7, 30, 8], [-10, -7, 0.001, 80]])\n",
    "b = np.array([1, 2, 9, 0])\n",
    "\n",
    "# numpy linear solvers\n",
    "x0 = np.linalg.solve(A,b)\n",
    "#x0 = np.linalg.inv(A).dot(b)\n",
    "print(\"Solution by numpy solver:\", x0)\n",
    "\n",
    "x = Gaussian_elimination_pivoting(A, b)\n",
    "print(\"Gaussian elimination: \",x)\n",
    "print(\"Residual: \", np.matmul(A,x)-b)\n",
    "\n",
    "# extra test to ensure we have solved the problem\n",
    "np.testing.assert_almost_equal(np.linalg.norm(b - A @ x), 0.0)"
   ]
  },
  {
   "cell_type": "code",
   "execution_count": 5,
   "id": "d795c68c",
   "metadata": {
    "scrolled": true
   },
   "outputs": [
    {
     "name": "stdout",
     "output_type": "stream",
     "text": [
      "Solution by numpy solver: [ 0.07776123 -0.34595467  0.12073569 -2.67345581  4.68962512  0.17783951\n",
      " -1.19457174  0.67849765  3.88262769 -2.46816894 -2.70313618 -2.6112638\n",
      "  1.46850641 -0.23041472  1.46813633  0.48901412 -3.17361453 -1.25750879\n",
      "  2.22946942  1.9540522 ]\n",
      "Gaussian elimination:  [ 0.07776123 -0.34595467  0.12073569 -2.67345581  4.68962512  0.17783951\n",
      " -1.19457174  0.67849765  3.88262769 -2.46816894 -2.70313618 -2.6112638\n",
      "  1.46850641 -0.23041472  1.46813633  0.48901412 -3.17361453 -1.25750879\n",
      "  2.22946942  1.9540522 ]\n",
      "Residual:  [ 3.33066907e-16  1.22124533e-15  1.11022302e-16  4.44089210e-16\n",
      "  8.88178420e-16  1.66533454e-15  0.00000000e+00 -1.66533454e-16\n",
      "  1.11022302e-16  2.22044605e-16  4.44089210e-16 -8.88178420e-16\n",
      "  3.33066907e-16  1.99840144e-15  1.44328993e-15  9.99200722e-16\n",
      "  3.33066907e-16  3.33066907e-16  6.66133815e-16 -6.66133815e-16]\n"
     ]
    }
   ],
   "source": [
    "'''testing 2'''\n",
    "n=20\n",
    "A = np.random.rand(n, n)\n",
    "b = np.random.rand(n)\n",
    "\n",
    "# numpy linear solvers\n",
    "x0 = np.linalg.solve(A,b)\n",
    "#x0 = np.linalg.inv(A).dot(b)\n",
    "print(\"Solution by numpy solver:\", x0)\n",
    "\n",
    "x = Gaussian_elimination_pivoting(A, b)\n",
    "print(\"Gaussian elimination: \",x)\n",
    "print(\"Residual: \", np.matmul(A,x)-b)\n",
    "\n",
    "# extra test to ensure we have solved the problem\n",
    "np.testing.assert_almost_equal(np.linalg.norm(b - A @ x), 0.0)"
   ]
  }
 ],
 "metadata": {
  "kernelspec": {
   "display_name": "Python 3 (ipykernel)",
   "language": "python",
   "name": "python3"
  },
  "language_info": {
   "codemirror_mode": {
    "name": "ipython",
    "version": 3
   },
   "file_extension": ".py",
   "mimetype": "text/x-python",
   "name": "python",
   "nbconvert_exporter": "python",
   "pygments_lexer": "ipython3",
   "version": "3.9.12"
  }
 },
 "nbformat": 4,
 "nbformat_minor": 5
}
