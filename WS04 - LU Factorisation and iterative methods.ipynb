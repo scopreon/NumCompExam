{
 "cells": [
  {
   "cell_type": "code",
   "execution_count": 1,
   "id": "81e79082",
   "metadata": {},
   "outputs": [
    {
     "name": "stdout",
     "output_type": "stream",
     "text": [
      "[[1.]\n",
      " [2.]\n",
      " [2.]]\n",
      "[[1.]\n",
      " [2.]\n",
      " [2.]]\n",
      "x0= [1. 1. 1. 1.]\n",
      "x= [1. 1. 1. 1.]\n",
      "[ 0.0000000e+00  0.0000000e+00  0.0000000e+00 -8.8817842e-16]\n"
     ]
    }
   ],
   "source": [
    "import numpy as np\n",
    "import copy\n",
    "# import triangular solvers from previous workbook\n",
    "%run 'WS03 - Triangular systems and Gaussian elimination.ipynb'"
   ]
  },
  {
   "cell_type": "code",
   "execution_count": 33,
   "id": "7ad5c855",
   "metadata": {
    "scrolled": true
   },
   "outputs": [],
   "source": [
    "'''*** Jacobi ***'''\n",
    "def Jacobi_iteration(A, b, max_iteration, x0 = None):\n",
    "    # we should take care to ensure that arrays are stored with the correct type - float!\n",
    "    A = A.astype(np.float64)\n",
    "    b = b.astype(np.float64)\n",
    "     \n",
    "    # check sizes of A and b match appropriately\n",
    "    nb=len(b)\n",
    "    n, m = A.shape\n",
    "    if n != m:\n",
    "        raise ValueError(f'A is not a square matrix! {A.shape=}')\n",
    "    if n != nb:\n",
    "        raise ValueError(f'shapes of A and b do not match! {A.shape=} {b.shape=}')\n",
    "\n",
    "    # check diagonal is non zero\n",
    "    for i in range(n):\n",
    "        if np.isclose(A[i, i], 0):\n",
    "            raise ValueError(f'A[{i}, {i}] is zero')\n",
    "\n",
    "    # construct iteration matrices\n",
    "    P=np.zeros([n,n])    # matrix P = D^{-1}(L+U)\n",
    "    p=np.zeros(n)        # vector p = D^{-1} b\n",
    "    for i in range(n):\n",
    "        p[i]=b[i]/A[i,i] \n",
    "        for j in range(n):\n",
    "             P[i,j] = A[i,j]/A[i,i]\n",
    "        P[i,i] = 0\n",
    "        \n",
    "    #create a new array to store the results, initialised as zero\n",
    "    if x0 is None:\n",
    "        x = np.zeros_like(b)\n",
    "    else:\n",
    "        x = x0.copy()\n",
    "    \n",
    "    # perform iteration x <- p - P * x\n",
    "    for it in range(max_iteration):\n",
    "        xnew = np.empty_like(x)\n",
    "        for i in range(n):\n",
    "            xnew[i] = p[i]\n",
    "            for j in range(n):\n",
    "                xnew[i] -= P[i, j] * x[j]\n",
    "        x = xnew.copy()\n",
    "                \n",
    "    return x"
   ]
  },
  {
   "cell_type": "code",
   "execution_count": 34,
   "id": "4e524218",
   "metadata": {},
   "outputs": [],
   "source": [
    "'''*** Gauss-Seidel ***'''\n",
    "Gauss_Seidel_iteration(A, b, max_iteration, x0 = None):\n",
    "    # we should take care to ensure that arrays are stored with the correct type - float!\n",
    "    A = A.astype(np.float64)\n",
    "    b = b.astype(np.float64)\n",
    "     \n",
    "    # check sizes of A and b match appropriately\n",
    "    nb=len(b)\n",
    "    n, m = A.shape\n",
    "    if n != m:\n",
    "        raise ValueError(f'A is not a square matrix! {A.shape=}')\n",
    "    if n != nb:\n",
    "        raise ValueError(f'shapes of A and b do not match! {A.shape=} {b.shape=}')\n",
    "\n",
    "    for i in range(n):\n",
    "        if np.isclose(A[i, i], 0):\n",
    "            raise ValueError(f'A[{i}, {i}] is zero')\n",
    "\n",
    "    # do not construct iteration matrices explicitly\n",
    "    LD = np.zeros_like(A)\n",
    "    U = np.zeros_like(A)\n",
    "    for i in range(n):\n",
    "        for j in range(n):\n",
    "            if i < j:\n",
    "                U[i, j] = A[i, j]\n",
    "            else:\n",
    "                LD[i, j] = A[i, j]\n",
    "    \n",
    "    # p = (L + D)^{-1} b --> found by solving triangular system\n",
    "    # (L + D) p = b\n",
    "    p = lower_triangular_solve(LD, b)\n",
    "      \n",
    "    #create a new array to store the results, initialised as zero\n",
    "    if x0 is None:\n",
    "        x = np.zeros_like(b)\n",
    "    else:\n",
    "        x = x0.copy()\n",
    "        \n",
    "    # perform iteration x <- p - P * x\n",
    "    # (L+D)(xnew - p) = U*x\n",
    "    Ux = np.empty_like(x)\n",
    "    for it in range(max_iteration):\n",
    "        for i in range(n):\n",
    "            Ux[i] = 0.0\n",
    "            for j in range(i+1, n):\n",
    "                Ux[i] += U[i, j] * x[j]\n",
    "        Px = lower_triangular_solve(LD, Ux)\n",
    "        x = p - Px\n",
    "                \n",
    "    return x"
   ]
  },
  {
   "cell_type": "code",
   "execution_count": 35,
   "id": "b101e23e",
   "metadata": {},
   "outputs": [
    {
     "name": "stdout",
     "output_type": "stream",
     "text": [
      "Solution by numpy solver: [1. 1.]\n",
      "Solution by Jacobi iteration:  [0.9375 0.9375]\n",
      "Error:  [-0.0625 -0.0625]\n",
      "Residual:  [-0.1875 -0.1875]\n",
      "Solution by Gauss Seidel iteration:  [1.0078125  0.99609375]\n",
      "Error:  [ 0.0078125  -0.00390625]\n",
      "Residual:  [0.01171875 0.        ]\n"
     ]
    }
   ],
   "source": [
    "'''Testing'''\n",
    "# Test different linear solvers starting from the above two-dimensional linear system\n",
    "A = np.array([[2, 1], [1, 2]])\n",
    "b = np.array([3, 3])\n",
    "x_exact = np.array([1,1])\n",
    "\n",
    "# numpy linear solver\n",
    "x0 = np.linalg.solve(A,b)\n",
    "print(\"Solution by numpy solver:\", x0)\n",
    "\n",
    "x = Jacobi_iteration(A, b, 4)\n",
    "print(\"Solution by Jacobi iteration: \",x)\n",
    "print(\"Error: \", x - x_exact)\n",
    "print(\"Residual: \", np.matmul(A,x)-b)\n",
    "\n",
    "x = Gauss_Seidel_iteration(A, b, 4)\n",
    "print(\"Solution by Gauss Seidel iteration: \",x)\n",
    "print(\"Error: \", x - x_exact)\n",
    "print(\"Residual: \", np.matmul(A,x)-b)\n",
    "\n",
    "# Note we do not expect these values to be very small for small numbers of iterations!"
   ]
  },
  {
   "cell_type": "code",
   "execution_count": 36,
   "id": "efee6089",
   "metadata": {},
   "outputs": [
    {
     "name": "stdout",
     "output_type": "stream",
     "text": [
      "Solution by numpy solver: [0.9244595  0.31826746 0.15668124 0.14340388]\n",
      "Solution by Jacobi iteration:  [0.92445478 0.31826793 0.15668179 0.1434019 ]\n",
      "Residual:  [-8.49516542e-05 -9.70662051e-06 -8.42150747e-07 -1.14962922e-04]\n",
      "Solution by Gauss Seidel iteration:  [0.9244595  0.31826746 0.15668124 0.14340388]\n",
      "Residual:  [ 6.37090380e-11  3.58131302e-11  7.74846853e-12 -1.77635684e-15]\n"
     ]
    }
   ],
   "source": [
    "'''Testing 2'''\n",
    "A = np.array([[-10, 2, 0, 67], [-2, 50, -77, 1.e-5], [1, 7, 30, 8], [-10, -7, 0.001, 80]])\n",
    "b = np.array([1, 2, 9, 0])\n",
    "\n",
    "# numpy linear solvers\n",
    "x0 = np.linalg.solve(A,b)\n",
    "#x0 = np.linalg.inv(A).dot(b)\n",
    "print(\"Solution by numpy solver:\", x0)\n",
    "\n",
    "x = Jacobi_iteration(A, b, 100)\n",
    "print(\"Solution by Jacobi iteration: \",x)\n",
    "print(\"Residual: \", np.matmul(A,x)-b)\n",
    "# larger tolerance needed since the convergence is slower!\n",
    "np.testing.assert_allclose(x, x0, rtol=1.0e-4)\n",
    "\n",
    "x = Gauss_Seidel_iteration(A, b, 100)\n",
    "print(\"Solution by Gauss Seidel iteration: \",x)\n",
    "print(\"Residual: \", np.matmul(A,x)-b)\n",
    "np.testing.assert_allclose(x, x0)"
   ]
  },
  {
   "cell_type": "code",
   "execution_count": 37,
   "id": "ca8a4050",
   "metadata": {},
   "outputs": [
    {
     "name": "stdout",
     "output_type": "stream",
     "text": [
      "Solution by numpy solver: [ 0.01342526  0.08307362  0.01856768  0.03086629  0.00642853 -0.00630217\n",
      "  0.07935638  0.03028664  0.04399549  0.01314382  0.04842941  0.05635187\n",
      "  0.06244147 -0.00977329  0.06737911  0.04851531  0.02962853  0.03029331\n",
      "  0.01765032  0.01390566]\n",
      "Solution by Jacobi iteration:  [ 0.01342526  0.08307362  0.01856768  0.03086629  0.00642853 -0.00630217\n",
      "  0.07935638  0.03028664  0.04399549  0.01314382  0.04842941  0.05635187\n",
      "  0.06244147 -0.00977329  0.06737911  0.04851531  0.02962853  0.03029331\n",
      "  0.01765032  0.01390566]\n",
      "Residual:  [-5.55111512e-17  3.33066907e-16  0.00000000e+00  0.00000000e+00\n",
      " -5.55111512e-17  6.93889390e-18 -4.44089210e-16  1.11022302e-16\n",
      "  1.11022302e-16  0.00000000e+00  1.11022302e-16  1.11022302e-16\n",
      "  0.00000000e+00 -2.77555756e-17  3.33066907e-16  2.22044605e-16\n",
      " -1.11022302e-16  0.00000000e+00 -5.55111512e-17  0.00000000e+00]\n",
      "Solution by Gauss Seidel iteration:  [ 0.01342526  0.08307362  0.01856768  0.03086629  0.00642853 -0.00630217\n",
      "  0.07935638  0.03028664  0.04399549  0.01314382  0.04842941  0.05635187\n",
      "  0.06244147 -0.00977329  0.06737911  0.04851531  0.02962853  0.03029331\n",
      "  0.01765032  0.01390566]\n",
      "Residual:  [ 0.00000000e+00  0.00000000e+00  0.00000000e+00  0.00000000e+00\n",
      "  0.00000000e+00  0.00000000e+00 -2.22044605e-16  1.11022302e-16\n",
      "  0.00000000e+00  0.00000000e+00 -1.11022302e-16 -2.22044605e-16\n",
      "  1.11022302e-16  2.77555756e-17 -2.22044605e-16  0.00000000e+00\n",
      "  0.00000000e+00  0.00000000e+00  0.00000000e+00  5.55111512e-17]\n"
     ]
    }
   ],
   "source": [
    "'''Testing 3'''\n",
    "n=20\n",
    "B = np.random.rand(n, n)\n",
    "eps = 10\n",
    "A = eps * np.eye(n) + B * B.T\n",
    "b = np.random.rand(n)\n",
    "\n",
    "# numpy linear solvers\n",
    "x0 = np.linalg.solve(A,b)\n",
    "#x0 = np.linalg.inv(A).dot(b)\n",
    "print(\"Solution by numpy solver:\", x0)\n",
    "\n",
    "x = Jacobi_iteration(A, b, 100)\n",
    "print(\"Solution by Jacobi iteration: \",x)\n",
    "print(\"Residual: \", np.matmul(A,x)-b)\n",
    "np.testing.assert_allclose(x, x0)\n",
    "\n",
    "x = Gauss_Seidel_iteration(A, b, 100)\n",
    "print(\"Solution by Gauss Seidel iteration: \",x)\n",
    "print(\"Residual: \", np.matmul(A,x)-b)\n",
    "np.testing.assert_allclose(x, x0)"
   ]
  }
 ],
 "metadata": {
  "kernelspec": {
   "display_name": "Python 3 (ipykernel)",
   "language": "python",
   "name": "python3"
  },
  "language_info": {
   "codemirror_mode": {
    "name": "ipython",
    "version": 3
   },
   "file_extension": ".py",
   "mimetype": "text/x-python",
   "name": "python",
   "nbconvert_exporter": "python",
   "pygments_lexer": "ipython3",
   "version": "3.9.12"
  }
 },
 "nbformat": 4,
 "nbformat_minor": 5
}
