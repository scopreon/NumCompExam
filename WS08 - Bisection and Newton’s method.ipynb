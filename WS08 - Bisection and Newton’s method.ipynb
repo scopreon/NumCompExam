{
 "cells": [
  {
   "cell_type": "code",
   "execution_count": 5,
   "id": "61f36d8a",
   "metadata": {},
   "outputs": [],
   "source": [
    "import numpy as np"
   ]
  },
  {
   "cell_type": "code",
   "execution_count": 6,
   "id": "21727de4",
   "metadata": {},
   "outputs": [],
   "source": [
    "'''*** Newton Method ***'''\n",
    "def newton(f, df, x0, tol):\n",
    "    x = x0\n",
    "    y = f(x)\n",
    "    it = 0\n",
    "    while abs(y) > tol:   # iterate until less than or eq tol\n",
    "        x = x - y / df(x)  # apply one Newton iteration\n",
    "        y = f(x)           # reevaluate f at new estimate\n",
    "        it = it + 1\n",
    "\n",
    "    return x, it\n",
    "\n",
    "'''*** Bisection Method ***'''\n",
    "def bisection(f, x0, x1, tol):\n",
    "    it = 0\n",
    "    x = (x0 + x1)/2.0\n",
    "    while abs(f(x)) > tol:\n",
    "        it = it +1\n",
    "        x = (x0 + x1)/2.0\n",
    "        if abs(x) < 1.e-6: return x\n",
    "        if f(x)*f(x0) < 0:\n",
    "            x1 = x\n",
    "        else:\n",
    "            x0 = x       \n",
    "\n",
    "    return x, it"
   ]
  },
  {
   "cell_type": "code",
   "execution_count": 7,
   "id": "efcc1547",
   "metadata": {},
   "outputs": [
    {
     "name": "stdout",
     "output_type": "stream",
     "text": [
      "Newton method: 1.2599210498953948 after 5 iterations\n",
      "Bisection method: 1.2599210739135742 after 21 iterations\n"
     ]
    }
   ],
   "source": [
    "'''testing'''\n",
    "def f(t):\n",
    "    return t*t*t - 2.0\n",
    "\n",
    "def df(t):\n",
    "    return 3.*t*t\n",
    "\n",
    "\n",
    "x, it = newton(f, df, 2.0, 1.e-6)\n",
    "print(f\"Newton method: {x} after {it} iterations\")\n",
    "np.testing.assert_allclose(abs(f(x)), 0.0, atol=1.0e-6)\n",
    "\n",
    "x, it = bisection(f, 0.0, 2.0, 1.e-6)\n",
    "print(f\"Bisection method: {x} after {it} iterations\")\n",
    "np.testing.assert_allclose(abs(f(x)), 0.0, atol=1.0e-6)"
   ]
  }
 ],
 "metadata": {
  "kernelspec": {
   "display_name": "Python 3 (ipykernel)",
   "language": "python",
   "name": "python3"
  },
  "language_info": {
   "codemirror_mode": {
    "name": "ipython",
    "version": 3
   },
   "file_extension": ".py",
   "mimetype": "text/x-python",
   "name": "python",
   "nbconvert_exporter": "python",
   "pygments_lexer": "ipython3",
   "version": "3.9.12"
  }
 },
 "nbformat": 4,
 "nbformat_minor": 5
}
